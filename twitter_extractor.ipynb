{
 "cells": [
  {
   "cell_type": "markdown",
   "metadata": {},
   "source": [
    "# @robotodio"
   ]
  },
  {
   "cell_type": "markdown",
   "metadata": {},
   "source": [
    "## Libraries"
   ]
  },
  {
   "cell_type": "code",
   "execution_count": 1,
   "metadata": {},
   "outputs": [],
   "source": [
    "# Reading files with different formats\n",
    "import json\n",
    "\n",
    "# Data wrangling\n",
    "import pandas as pd\n",
    "import numpy as np\n",
    "\n",
    "# Twitter\n",
    "import tweepy"
   ]
  },
  {
   "cell_type": "markdown",
   "metadata": {},
   "source": [
    "## Download data from twitter"
   ]
  },
  {
   "cell_type": "code",
   "execution_count": 64,
   "metadata": {},
   "outputs": [],
   "source": [
    "# API Twitter credentials\n",
    "# ------------------------------------------------------------------------------\n",
    "\n",
    "# Open .json file containing credentials/tokens as a dictionary\n",
    "with open(\"twitter_api_keys.json\") as file:\n",
    "    api_credentials = json.load(file)\n",
    "    \n",
    "# Assign each value of the dictionary to a new variable\n",
    "consumer_key = api_credentials['consumer_key']\n",
    "consumer_secret = api_credentials['consumer_secret']\n",
    "access_token = api_credentials['access_token']\n",
    "access_token_secret = api_credentials['access_token_secret']"
   ]
  },
  {
   "cell_type": "code",
   "execution_count": 65,
   "metadata": {},
   "outputs": [
    {
     "name": "stdout",
     "output_type": "stream",
     "text": [
      "Logged In Successfully\n"
     ]
    }
   ],
   "source": [
    "# API set up\n",
    "# ------------------------------------------------------------------------------\n",
    "\n",
    "# Create a handler instance with key and secret consumer, and pass the tokens\n",
    "auth = tweepy.OAuthHandler(consumer_key, consumer_secret)\n",
    "auth.set_access_token(access_token, access_token_secret)\n",
    "    \n",
    "# Instance the API authorization\n",
    "api = tweepy.API(auth, wait_on_rate_limit=True, wait_on_rate_limit_notify=True)\n",
    "\n",
    "# Check credentials\n",
    "if(api.verify_credentials):\n",
    "    print(\"Logged In Successfully\")\n",
    "else:\n",
    "    print(\"Error -- Could not log in with your credentials\")"
   ]
  },
  {
   "cell_type": "code",
   "execution_count": null,
   "metadata": {},
   "outputs": [],
   "source": [
    "# Tweet extractor\n",
    "# ------------------------------------------------------------------------------\n",
    "# Introduce the target Twitter account and number of items to download\n",
    "target = 'lexfridman'\n",
    "n_items = 20\n",
    "\n",
    "# Tweets list (iterator)\n",
    "tweets = tweepy.Cursor(\n",
    "    api.user_timeline,\n",
    "    screen_name=target,\n",
    "    tweet_mode='extended').items(n_items)\n",
    "\n",
    "# Export to a Pandas DataFrame\n",
    "all_columns = [np.array([\n",
    "    tweet.full_text,\n",
    "    tweet.user.screen_name,\n",
    "    tweet.id,\n",
    "    tweet.source,\n",
    "    tweet.created_at,\n",
    "    len(tweet.full_text),\n",
    "    tweet.favorite_count,\n",
    "    tweet.retweet_count,\n",
    "    str(tweet.entities['hashtags'])\n",
    "]) for tweet in tweets]\n",
    "\n",
    "# Export the list of tweets to a dataframe\n",
    "df = pd.DataFrame(\n",
    "    data=all_columns,\n",
    "    columns=['tweet', 'id', 'account', 'source', 'date', 'length', 'likes',\n",
    "             'RTs', 'hashtags']\n",
    ")\n",
    "\n",
    "\n",
    "df.head()"
   ]
  },
  {
   "cell_type": "markdown",
   "metadata": {},
   "source": [
    "- https://tomasreneboldi.medium.com/c%C3%B3mo-obtener-datos-de-twitter-hacer-todo-esto-con-tweepy-3-5-21d60cd6e2c1\n",
    "- http://rios.tecnm.mx/cdistribuido/recursos/MinDatScr/MineriaScribble.html"
   ]
  },
  {
   "cell_type": "code",
   "execution_count": null,
   "metadata": {},
   "outputs": [],
   "source": []
  },
  {
   "cell_type": "code",
   "execution_count": 46,
   "metadata": {},
   "outputs": [
    {
     "name": "stdout",
     "output_type": "stream",
     "text": [
      "Status(_api=<tweepy.api.API object at 0x00000231F236BB80>, _json={'created_at': 'Sun Jan 10 15:55:03 +0000 2021', 'id': 1348297309436727296, 'id_str': '1348297309436727296', 'full_text': 'Life rarely happens exactly as planned. The fun parts especially.', 'truncated': False, 'display_text_range': [0, 65], 'entities': {'hashtags': [], 'symbols': [], 'user_mentions': [], 'urls': []}, 'source': '<a href=\"https://mobile.twitter.com\" rel=\"nofollow\">Twitter Web App</a>', 'in_reply_to_status_id': None, 'in_reply_to_status_id_str': None, 'in_reply_to_user_id': None, 'in_reply_to_user_id_str': None, 'in_reply_to_screen_name': None, 'user': {'id': 427089628, 'id_str': '427089628', 'name': 'Lex Fridman', 'screen_name': 'lexfridman', 'location': 'Boston, MA', 'description': 'AI researcher. Podcast host.', 'url': 'https://t.co/cGtUxSUQZd', 'entities': {'url': {'urls': [{'url': 'https://t.co/cGtUxSUQZd', 'expanded_url': 'https://lexfridman.com/podcast', 'display_url': 'lexfridman.com/podcast', 'indices': [0, 23]}]}, 'description': {'urls': []}}, 'protected': False, 'followers_count': 434721, 'friends_count': 1, 'listed_count': 2418, 'created_at': 'Sat Dec 03 03:06:19 +0000 2011', 'favourites_count': 4538, 'utc_offset': None, 'time_zone': None, 'geo_enabled': False, 'verified': False, 'statuses_count': 1234, 'lang': None, 'contributors_enabled': False, 'is_translator': False, 'is_translation_enabled': False, 'profile_background_color': '000000', 'profile_background_image_url': 'http://abs.twimg.com/images/themes/theme1/bg.png', 'profile_background_image_url_https': 'https://abs.twimg.com/images/themes/theme1/bg.png', 'profile_background_tile': False, 'profile_image_url': 'http://pbs.twimg.com/profile_images/956331551435960322/OaqR8pAB_normal.jpg', 'profile_image_url_https': 'https://pbs.twimg.com/profile_images/956331551435960322/OaqR8pAB_normal.jpg', 'profile_banner_url': 'https://pbs.twimg.com/profile_banners/427089628/1586371087', 'profile_link_color': '444444', 'profile_sidebar_border_color': '000000', 'profile_sidebar_fill_color': '000000', 'profile_text_color': '000000', 'profile_use_background_image': False, 'has_extended_profile': False, 'default_profile': False, 'default_profile_image': False, 'following': False, 'follow_request_sent': False, 'notifications': False, 'translator_type': 'none'}, 'geo': None, 'coordinates': None, 'place': None, 'contributors': None, 'is_quote_status': False, 'retweet_count': 491, 'favorite_count': 5092, 'favorited': False, 'retweeted': False, 'lang': 'en'}, created_at=datetime.datetime(2021, 1, 10, 15, 55, 3), id=1348297309436727296, id_str='1348297309436727296', full_text='Life rarely happens exactly as planned. The fun parts especially.', truncated=False, display_text_range=[0, 65], entities={'hashtags': [], 'symbols': [], 'user_mentions': [], 'urls': []}, source='Twitter Web App', source_url='https://mobile.twitter.com', in_reply_to_status_id=None, in_reply_to_status_id_str=None, in_reply_to_user_id=None, in_reply_to_user_id_str=None, in_reply_to_screen_name=None, author=User(_api=<tweepy.api.API object at 0x00000231F236BB80>, _json={'id': 427089628, 'id_str': '427089628', 'name': 'Lex Fridman', 'screen_name': 'lexfridman', 'location': 'Boston, MA', 'description': 'AI researcher. Podcast host.', 'url': 'https://t.co/cGtUxSUQZd', 'entities': {'url': {'urls': [{'url': 'https://t.co/cGtUxSUQZd', 'expanded_url': 'https://lexfridman.com/podcast', 'display_url': 'lexfridman.com/podcast', 'indices': [0, 23]}]}, 'description': {'urls': []}}, 'protected': False, 'followers_count': 434721, 'friends_count': 1, 'listed_count': 2418, 'created_at': 'Sat Dec 03 03:06:19 +0000 2011', 'favourites_count': 4538, 'utc_offset': None, 'time_zone': None, 'geo_enabled': False, 'verified': False, 'statuses_count': 1234, 'lang': None, 'contributors_enabled': False, 'is_translator': False, 'is_translation_enabled': False, 'profile_background_color': '000000', 'profile_background_image_url': 'http://abs.twimg.com/images/themes/theme1/bg.png', 'profile_background_image_url_https': 'https://abs.twimg.com/images/themes/theme1/bg.png', 'profile_background_tile': False, 'profile_image_url': 'http://pbs.twimg.com/profile_images/956331551435960322/OaqR8pAB_normal.jpg', 'profile_image_url_https': 'https://pbs.twimg.com/profile_images/956331551435960322/OaqR8pAB_normal.jpg', 'profile_banner_url': 'https://pbs.twimg.com/profile_banners/427089628/1586371087', 'profile_link_color': '444444', 'profile_sidebar_border_color': '000000', 'profile_sidebar_fill_color': '000000', 'profile_text_color': '000000', 'profile_use_background_image': False, 'has_extended_profile': False, 'default_profile': False, 'default_profile_image': False, 'following': False, 'follow_request_sent': False, 'notifications': False, 'translator_type': 'none'}, id=427089628, id_str='427089628', name='Lex Fridman', screen_name='lexfridman', location='Boston, MA', description='AI researcher. Podcast host.', url='https://t.co/cGtUxSUQZd', entities={'url': {'urls': [{'url': 'https://t.co/cGtUxSUQZd', 'expanded_url': 'https://lexfridman.com/podcast', 'display_url': 'lexfridman.com/podcast', 'indices': [0, 23]}]}, 'description': {'urls': []}}, protected=False, followers_count=434721, friends_count=1, listed_count=2418, created_at=datetime.datetime(2011, 12, 3, 3, 6, 19), favourites_count=4538, utc_offset=None, time_zone=None, geo_enabled=False, verified=False, statuses_count=1234, lang=None, contributors_enabled=False, is_translator=False, is_translation_enabled=False, profile_background_color='000000', profile_background_image_url='http://abs.twimg.com/images/themes/theme1/bg.png', profile_background_image_url_https='https://abs.twimg.com/images/themes/theme1/bg.png', profile_background_tile=False, profile_image_url='http://pbs.twimg.com/profile_images/956331551435960322/OaqR8pAB_normal.jpg', profile_image_url_https='https://pbs.twimg.com/profile_images/956331551435960322/OaqR8pAB_normal.jpg', profile_banner_url='https://pbs.twimg.com/profile_banners/427089628/1586371087', profile_link_color='444444', profile_sidebar_border_color='000000', profile_sidebar_fill_color='000000', profile_text_color='000000', profile_use_background_image=False, has_extended_profile=False, default_profile=False, default_profile_image=False, following=False, follow_request_sent=False, notifications=False, translator_type='none'), user=User(_api=<tweepy.api.API object at 0x00000231F236BB80>, _json={'id': 427089628, 'id_str': '427089628', 'name': 'Lex Fridman', 'screen_name': 'lexfridman', 'location': 'Boston, MA', 'description': 'AI researcher. Podcast host.', 'url': 'https://t.co/cGtUxSUQZd', 'entities': {'url': {'urls': [{'url': 'https://t.co/cGtUxSUQZd', 'expanded_url': 'https://lexfridman.com/podcast', 'display_url': 'lexfridman.com/podcast', 'indices': [0, 23]}]}, 'description': {'urls': []}}, 'protected': False, 'followers_count': 434721, 'friends_count': 1, 'listed_count': 2418, 'created_at': 'Sat Dec 03 03:06:19 +0000 2011', 'favourites_count': 4538, 'utc_offset': None, 'time_zone': None, 'geo_enabled': False, 'verified': False, 'statuses_count': 1234, 'lang': None, 'contributors_enabled': False, 'is_translator': False, 'is_translation_enabled': False, 'profile_background_color': '000000', 'profile_background_image_url': 'http://abs.twimg.com/images/themes/theme1/bg.png', 'profile_background_image_url_https': 'https://abs.twimg.com/images/themes/theme1/bg.png', 'profile_background_tile': False, 'profile_image_url': 'http://pbs.twimg.com/profile_images/956331551435960322/OaqR8pAB_normal.jpg', 'profile_image_url_https': 'https://pbs.twimg.com/profile_images/956331551435960322/OaqR8pAB_normal.jpg', 'profile_banner_url': 'https://pbs.twimg.com/profile_banners/427089628/1586371087', 'profile_link_color': '444444', 'profile_sidebar_border_color': '000000', 'profile_sidebar_fill_color': '000000', 'profile_text_color': '000000', 'profile_use_background_image': False, 'has_extended_profile': False, 'default_profile': False, 'default_profile_image': False, 'following': False, 'follow_request_sent': False, 'notifications': False, 'translator_type': 'none'}, id=427089628, id_str='427089628', name='Lex Fridman', screen_name='lexfridman', location='Boston, MA', description='AI researcher. Podcast host.', url='https://t.co/cGtUxSUQZd', entities={'url': {'urls': [{'url': 'https://t.co/cGtUxSUQZd', 'expanded_url': 'https://lexfridman.com/podcast', 'display_url': 'lexfridman.com/podcast', 'indices': [0, 23]}]}, 'description': {'urls': []}}, protected=False, followers_count=434721, friends_count=1, listed_count=2418, created_at=datetime.datetime(2011, 12, 3, 3, 6, 19), favourites_count=4538, utc_offset=None, time_zone=None, geo_enabled=False, verified=False, statuses_count=1234, lang=None, contributors_enabled=False, is_translator=False, is_translation_enabled=False, profile_background_color='000000', profile_background_image_url='http://abs.twimg.com/images/themes/theme1/bg.png', profile_background_image_url_https='https://abs.twimg.com/images/themes/theme1/bg.png', profile_background_tile=False, profile_image_url='http://pbs.twimg.com/profile_images/956331551435960322/OaqR8pAB_normal.jpg', profile_image_url_https='https://pbs.twimg.com/profile_images/956331551435960322/OaqR8pAB_normal.jpg', profile_banner_url='https://pbs.twimg.com/profile_banners/427089628/1586371087', profile_link_color='444444', profile_sidebar_border_color='000000', profile_sidebar_fill_color='000000', profile_text_color='000000', profile_use_background_image=False, has_extended_profile=False, default_profile=False, default_profile_image=False, following=False, follow_request_sent=False, notifications=False, translator_type='none'), geo=None, coordinates=None, place=None, contributors=None, is_quote_status=False, retweet_count=491, favorite_count=5092, favorited=False, retweeted=False, lang='en')\n",
      "Status(_api=<tweepy.api.API object at 0x00000231F236BB80>, _json={'created_at': 'Sun Jan 10 03:30:48 +0000 2021', 'id': 1348110012904845321, 'id_str': '1348110012904845321', 'full_text': 'The math checks out. https://t.co/oepLfR8zok', 'truncated': False, 'display_text_range': [0, 20], 'entities': {'hashtags': [], 'symbols': [], 'user_mentions': [], 'urls': [], 'media': [{'id': 1348107716846354433, 'id_str': '1348107716846354433', 'indices': [21, 44], 'media_url': 'http://pbs.twimg.com/media/ErVw022XAAEniDT.jpg', 'media_url_https': 'https://pbs.twimg.com/media/ErVw022XAAEniDT.jpg', 'url': 'https://t.co/oepLfR8zok', 'display_url': 'pic.twitter.com/oepLfR8zok', 'expanded_url': 'https://twitter.com/lexfridman/status/1348110012904845321/photo/1', 'type': 'photo', 'sizes': {'thumb': {'w': 150, 'h': 150, 'resize': 'crop'}, 'large': {'w': 960, 'h': 833, 'resize': 'fit'}, 'medium': {'w': 960, 'h': 833, 'resize': 'fit'}, 'small': {'w': 680, 'h': 590, 'resize': 'fit'}}}]}, 'extended_entities': {'media': [{'id': 1348107716846354433, 'id_str': '1348107716846354433', 'indices': [21, 44], 'media_url': 'http://pbs.twimg.com/media/ErVw022XAAEniDT.jpg', 'media_url_https': 'https://pbs.twimg.com/media/ErVw022XAAEniDT.jpg', 'url': 'https://t.co/oepLfR8zok', 'display_url': 'pic.twitter.com/oepLfR8zok', 'expanded_url': 'https://twitter.com/lexfridman/status/1348110012904845321/photo/1', 'type': 'photo', 'sizes': {'thumb': {'w': 150, 'h': 150, 'resize': 'crop'}, 'large': {'w': 960, 'h': 833, 'resize': 'fit'}, 'medium': {'w': 960, 'h': 833, 'resize': 'fit'}, 'small': {'w': 680, 'h': 590, 'resize': 'fit'}}}]}, 'source': '<a href=\"https://mobile.twitter.com\" rel=\"nofollow\">Twitter Web App</a>', 'in_reply_to_status_id': None, 'in_reply_to_status_id_str': None, 'in_reply_to_user_id': None, 'in_reply_to_user_id_str': None, 'in_reply_to_screen_name': None, 'user': {'id': 427089628, 'id_str': '427089628', 'name': 'Lex Fridman', 'screen_name': 'lexfridman', 'location': 'Boston, MA', 'description': 'AI researcher. Podcast host.', 'url': 'https://t.co/cGtUxSUQZd', 'entities': {'url': {'urls': [{'url': 'https://t.co/cGtUxSUQZd', 'expanded_url': 'https://lexfridman.com/podcast', 'display_url': 'lexfridman.com/podcast', 'indices': [0, 23]}]}, 'description': {'urls': []}}, 'protected': False, 'followers_count': 434721, 'friends_count': 1, 'listed_count': 2418, 'created_at': 'Sat Dec 03 03:06:19 +0000 2011', 'favourites_count': 4538, 'utc_offset': None, 'time_zone': None, 'geo_enabled': False, 'verified': False, 'statuses_count': 1234, 'lang': None, 'contributors_enabled': False, 'is_translator': False, 'is_translation_enabled': False, 'profile_background_color': '000000', 'profile_background_image_url': 'http://abs.twimg.com/images/themes/theme1/bg.png', 'profile_background_image_url_https': 'https://abs.twimg.com/images/themes/theme1/bg.png', 'profile_background_tile': False, 'profile_image_url': 'http://pbs.twimg.com/profile_images/956331551435960322/OaqR8pAB_normal.jpg', 'profile_image_url_https': 'https://pbs.twimg.com/profile_images/956331551435960322/OaqR8pAB_normal.jpg', 'profile_banner_url': 'https://pbs.twimg.com/profile_banners/427089628/1586371087', 'profile_link_color': '444444', 'profile_sidebar_border_color': '000000', 'profile_sidebar_fill_color': '000000', 'profile_text_color': '000000', 'profile_use_background_image': False, 'has_extended_profile': False, 'default_profile': False, 'default_profile_image': False, 'following': False, 'follow_request_sent': False, 'notifications': False, 'translator_type': 'none'}, 'geo': None, 'coordinates': None, 'place': None, 'contributors': None, 'is_quote_status': False, 'retweet_count': 1197, 'favorite_count': 13945, 'favorited': False, 'retweeted': False, 'possibly_sensitive': False, 'lang': 'en'}, created_at=datetime.datetime(2021, 1, 10, 3, 30, 48), id=1348110012904845321, id_str='1348110012904845321', full_text='The math checks out. https://t.co/oepLfR8zok', truncated=False, display_text_range=[0, 20], entities={'hashtags': [], 'symbols': [], 'user_mentions': [], 'urls': [], 'media': [{'id': 1348107716846354433, 'id_str': '1348107716846354433', 'indices': [21, 44], 'media_url': 'http://pbs.twimg.com/media/ErVw022XAAEniDT.jpg', 'media_url_https': 'https://pbs.twimg.com/media/ErVw022XAAEniDT.jpg', 'url': 'https://t.co/oepLfR8zok', 'display_url': 'pic.twitter.com/oepLfR8zok', 'expanded_url': 'https://twitter.com/lexfridman/status/1348110012904845321/photo/1', 'type': 'photo', 'sizes': {'thumb': {'w': 150, 'h': 150, 'resize': 'crop'}, 'large': {'w': 960, 'h': 833, 'resize': 'fit'}, 'medium': {'w': 960, 'h': 833, 'resize': 'fit'}, 'small': {'w': 680, 'h': 590, 'resize': 'fit'}}}]}, extended_entities={'media': [{'id': 1348107716846354433, 'id_str': '1348107716846354433', 'indices': [21, 44], 'media_url': 'http://pbs.twimg.com/media/ErVw022XAAEniDT.jpg', 'media_url_https': 'https://pbs.twimg.com/media/ErVw022XAAEniDT.jpg', 'url': 'https://t.co/oepLfR8zok', 'display_url': 'pic.twitter.com/oepLfR8zok', 'expanded_url': 'https://twitter.com/lexfridman/status/1348110012904845321/photo/1', 'type': 'photo', 'sizes': {'thumb': {'w': 150, 'h': 150, 'resize': 'crop'}, 'large': {'w': 960, 'h': 833, 'resize': 'fit'}, 'medium': {'w': 960, 'h': 833, 'resize': 'fit'}, 'small': {'w': 680, 'h': 590, 'resize': 'fit'}}}]}, source='Twitter Web App', source_url='https://mobile.twitter.com', in_reply_to_status_id=None, in_reply_to_status_id_str=None, in_reply_to_user_id=None, in_reply_to_user_id_str=None, in_reply_to_screen_name=None, author=User(_api=<tweepy.api.API object at 0x00000231F236BB80>, _json={'id': 427089628, 'id_str': '427089628', 'name': 'Lex Fridman', 'screen_name': 'lexfridman', 'location': 'Boston, MA', 'description': 'AI researcher. Podcast host.', 'url': 'https://t.co/cGtUxSUQZd', 'entities': {'url': {'urls': [{'url': 'https://t.co/cGtUxSUQZd', 'expanded_url': 'https://lexfridman.com/podcast', 'display_url': 'lexfridman.com/podcast', 'indices': [0, 23]}]}, 'description': {'urls': []}}, 'protected': False, 'followers_count': 434721, 'friends_count': 1, 'listed_count': 2418, 'created_at': 'Sat Dec 03 03:06:19 +0000 2011', 'favourites_count': 4538, 'utc_offset': None, 'time_zone': None, 'geo_enabled': False, 'verified': False, 'statuses_count': 1234, 'lang': None, 'contributors_enabled': False, 'is_translator': False, 'is_translation_enabled': False, 'profile_background_color': '000000', 'profile_background_image_url': 'http://abs.twimg.com/images/themes/theme1/bg.png', 'profile_background_image_url_https': 'https://abs.twimg.com/images/themes/theme1/bg.png', 'profile_background_tile': False, 'profile_image_url': 'http://pbs.twimg.com/profile_images/956331551435960322/OaqR8pAB_normal.jpg', 'profile_image_url_https': 'https://pbs.twimg.com/profile_images/956331551435960322/OaqR8pAB_normal.jpg', 'profile_banner_url': 'https://pbs.twimg.com/profile_banners/427089628/1586371087', 'profile_link_color': '444444', 'profile_sidebar_border_color': '000000', 'profile_sidebar_fill_color': '000000', 'profile_text_color': '000000', 'profile_use_background_image': False, 'has_extended_profile': False, 'default_profile': False, 'default_profile_image': False, 'following': False, 'follow_request_sent': False, 'notifications': False, 'translator_type': 'none'}, id=427089628, id_str='427089628', name='Lex Fridman', screen_name='lexfridman', location='Boston, MA', description='AI researcher. Podcast host.', url='https://t.co/cGtUxSUQZd', entities={'url': {'urls': [{'url': 'https://t.co/cGtUxSUQZd', 'expanded_url': 'https://lexfridman.com/podcast', 'display_url': 'lexfridman.com/podcast', 'indices': [0, 23]}]}, 'description': {'urls': []}}, protected=False, followers_count=434721, friends_count=1, listed_count=2418, created_at=datetime.datetime(2011, 12, 3, 3, 6, 19), favourites_count=4538, utc_offset=None, time_zone=None, geo_enabled=False, verified=False, statuses_count=1234, lang=None, contributors_enabled=False, is_translator=False, is_translation_enabled=False, profile_background_color='000000', profile_background_image_url='http://abs.twimg.com/images/themes/theme1/bg.png', profile_background_image_url_https='https://abs.twimg.com/images/themes/theme1/bg.png', profile_background_tile=False, profile_image_url='http://pbs.twimg.com/profile_images/956331551435960322/OaqR8pAB_normal.jpg', profile_image_url_https='https://pbs.twimg.com/profile_images/956331551435960322/OaqR8pAB_normal.jpg', profile_banner_url='https://pbs.twimg.com/profile_banners/427089628/1586371087', profile_link_color='444444', profile_sidebar_border_color='000000', profile_sidebar_fill_color='000000', profile_text_color='000000', profile_use_background_image=False, has_extended_profile=False, default_profile=False, default_profile_image=False, following=False, follow_request_sent=False, notifications=False, translator_type='none'), user=User(_api=<tweepy.api.API object at 0x00000231F236BB80>, _json={'id': 427089628, 'id_str': '427089628', 'name': 'Lex Fridman', 'screen_name': 'lexfridman', 'location': 'Boston, MA', 'description': 'AI researcher. Podcast host.', 'url': 'https://t.co/cGtUxSUQZd', 'entities': {'url': {'urls': [{'url': 'https://t.co/cGtUxSUQZd', 'expanded_url': 'https://lexfridman.com/podcast', 'display_url': 'lexfridman.com/podcast', 'indices': [0, 23]}]}, 'description': {'urls': []}}, 'protected': False, 'followers_count': 434721, 'friends_count': 1, 'listed_count': 2418, 'created_at': 'Sat Dec 03 03:06:19 +0000 2011', 'favourites_count': 4538, 'utc_offset': None, 'time_zone': None, 'geo_enabled': False, 'verified': False, 'statuses_count': 1234, 'lang': None, 'contributors_enabled': False, 'is_translator': False, 'is_translation_enabled': False, 'profile_background_color': '000000', 'profile_background_image_url': 'http://abs.twimg.com/images/themes/theme1/bg.png', 'profile_background_image_url_https': 'https://abs.twimg.com/images/themes/theme1/bg.png', 'profile_background_tile': False, 'profile_image_url': 'http://pbs.twimg.com/profile_images/956331551435960322/OaqR8pAB_normal.jpg', 'profile_image_url_https': 'https://pbs.twimg.com/profile_images/956331551435960322/OaqR8pAB_normal.jpg', 'profile_banner_url': 'https://pbs.twimg.com/profile_banners/427089628/1586371087', 'profile_link_color': '444444', 'profile_sidebar_border_color': '000000', 'profile_sidebar_fill_color': '000000', 'profile_text_color': '000000', 'profile_use_background_image': False, 'has_extended_profile': False, 'default_profile': False, 'default_profile_image': False, 'following': False, 'follow_request_sent': False, 'notifications': False, 'translator_type': 'none'}, id=427089628, id_str='427089628', name='Lex Fridman', screen_name='lexfridman', location='Boston, MA', description='AI researcher. Podcast host.', url='https://t.co/cGtUxSUQZd', entities={'url': {'urls': [{'url': 'https://t.co/cGtUxSUQZd', 'expanded_url': 'https://lexfridman.com/podcast', 'display_url': 'lexfridman.com/podcast', 'indices': [0, 23]}]}, 'description': {'urls': []}}, protected=False, followers_count=434721, friends_count=1, listed_count=2418, created_at=datetime.datetime(2011, 12, 3, 3, 6, 19), favourites_count=4538, utc_offset=None, time_zone=None, geo_enabled=False, verified=False, statuses_count=1234, lang=None, contributors_enabled=False, is_translator=False, is_translation_enabled=False, profile_background_color='000000', profile_background_image_url='http://abs.twimg.com/images/themes/theme1/bg.png', profile_background_image_url_https='https://abs.twimg.com/images/themes/theme1/bg.png', profile_background_tile=False, profile_image_url='http://pbs.twimg.com/profile_images/956331551435960322/OaqR8pAB_normal.jpg', profile_image_url_https='https://pbs.twimg.com/profile_images/956331551435960322/OaqR8pAB_normal.jpg', profile_banner_url='https://pbs.twimg.com/profile_banners/427089628/1586371087', profile_link_color='444444', profile_sidebar_border_color='000000', profile_sidebar_fill_color='000000', profile_text_color='000000', profile_use_background_image=False, has_extended_profile=False, default_profile=False, default_profile_image=False, following=False, follow_request_sent=False, notifications=False, translator_type='none'), geo=None, coordinates=None, place=None, contributors=None, is_quote_status=False, retweet_count=1197, favorite_count=13945, favorited=False, retweeted=False, possibly_sensitive=False, lang='en')\n",
      "Status(_api=<tweepy.api.API object at 0x00000231F236BB80>, _json={'created_at': 'Sat Jan 09 23:31:59 +0000 2021', 'id': 1348049911141560321, 'id_str': '1348049911141560321', 'full_text': \"Two years ago I spoke with Dan Gable. I usually don't care about listens/views, but in this case I felt like I failed one of my heroes in how poorly I released it. I'm reposting it today with new content. Please give it a chance. It would mean a lot to me: https://t.co/zBcaO8uQyY https://t.co/Szw8B9HzBx\", 'truncated': False, 'display_text_range': [0, 280], 'entities': {'hashtags': [], 'symbols': [], 'user_mentions': [], 'urls': [{'url': 'https://t.co/zBcaO8uQyY', 'expanded_url': 'https://www.youtube.com/watch?v=pRzelZlKl7E', 'display_url': 'youtube.com/watch?v=pRzelZ…', 'indices': [257, 280]}], 'media': [{'id': 1348049856103911424, 'id_str': '1348049856103911424', 'indices': [281, 304], 'media_url': 'http://pbs.twimg.com/media/ErU8M6yXEAAyemJ.jpg', 'media_url_https': 'https://pbs.twimg.com/media/ErU8M6yXEAAyemJ.jpg', 'url': 'https://t.co/Szw8B9HzBx', 'display_url': 'pic.twitter.com/Szw8B9HzBx', 'expanded_url': 'https://twitter.com/lexfridman/status/1348049911141560321/photo/1', 'type': 'photo', 'sizes': {'large': {'w': 1280, 'h': 720, 'resize': 'fit'}, 'thumb': {'w': 150, 'h': 150, 'resize': 'crop'}, 'medium': {'w': 1200, 'h': 675, 'resize': 'fit'}, 'small': {'w': 680, 'h': 383, 'resize': 'fit'}}}]}, 'extended_entities': {'media': [{'id': 1348049856103911424, 'id_str': '1348049856103911424', 'indices': [281, 304], 'media_url': 'http://pbs.twimg.com/media/ErU8M6yXEAAyemJ.jpg', 'media_url_https': 'https://pbs.twimg.com/media/ErU8M6yXEAAyemJ.jpg', 'url': 'https://t.co/Szw8B9HzBx', 'display_url': 'pic.twitter.com/Szw8B9HzBx', 'expanded_url': 'https://twitter.com/lexfridman/status/1348049911141560321/photo/1', 'type': 'photo', 'sizes': {'large': {'w': 1280, 'h': 720, 'resize': 'fit'}, 'thumb': {'w': 150, 'h': 150, 'resize': 'crop'}, 'medium': {'w': 1200, 'h': 675, 'resize': 'fit'}, 'small': {'w': 680, 'h': 383, 'resize': 'fit'}}}]}, 'source': '<a href=\"https://mobile.twitter.com\" rel=\"nofollow\">Twitter Web App</a>', 'in_reply_to_status_id': None, 'in_reply_to_status_id_str': None, 'in_reply_to_user_id': None, 'in_reply_to_user_id_str': None, 'in_reply_to_screen_name': None, 'user': {'id': 427089628, 'id_str': '427089628', 'name': 'Lex Fridman', 'screen_name': 'lexfridman', 'location': 'Boston, MA', 'description': 'AI researcher. Podcast host.', 'url': 'https://t.co/cGtUxSUQZd', 'entities': {'url': {'urls': [{'url': 'https://t.co/cGtUxSUQZd', 'expanded_url': 'https://lexfridman.com/podcast', 'display_url': 'lexfridman.com/podcast', 'indices': [0, 23]}]}, 'description': {'urls': []}}, 'protected': False, 'followers_count': 434721, 'friends_count': 1, 'listed_count': 2418, 'created_at': 'Sat Dec 03 03:06:19 +0000 2011', 'favourites_count': 4538, 'utc_offset': None, 'time_zone': None, 'geo_enabled': False, 'verified': False, 'statuses_count': 1234, 'lang': None, 'contributors_enabled': False, 'is_translator': False, 'is_translation_enabled': False, 'profile_background_color': '000000', 'profile_background_image_url': 'http://abs.twimg.com/images/themes/theme1/bg.png', 'profile_background_image_url_https': 'https://abs.twimg.com/images/themes/theme1/bg.png', 'profile_background_tile': False, 'profile_image_url': 'http://pbs.twimg.com/profile_images/956331551435960322/OaqR8pAB_normal.jpg', 'profile_image_url_https': 'https://pbs.twimg.com/profile_images/956331551435960322/OaqR8pAB_normal.jpg', 'profile_banner_url': 'https://pbs.twimg.com/profile_banners/427089628/1586371087', 'profile_link_color': '444444', 'profile_sidebar_border_color': '000000', 'profile_sidebar_fill_color': '000000', 'profile_text_color': '000000', 'profile_use_background_image': False, 'has_extended_profile': False, 'default_profile': False, 'default_profile_image': False, 'following': False, 'follow_request_sent': False, 'notifications': False, 'translator_type': 'none'}, 'geo': None, 'coordinates': None, 'place': None, 'contributors': None, 'is_quote_status': False, 'retweet_count': 56, 'favorite_count': 922, 'favorited': False, 'retweeted': False, 'possibly_sensitive': False, 'lang': 'en'}, created_at=datetime.datetime(2021, 1, 9, 23, 31, 59), id=1348049911141560321, id_str='1348049911141560321', full_text=\"Two years ago I spoke with Dan Gable. I usually don't care about listens/views, but in this case I felt like I failed one of my heroes in how poorly I released it. I'm reposting it today with new content. Please give it a chance. It would mean a lot to me: https://t.co/zBcaO8uQyY https://t.co/Szw8B9HzBx\", truncated=False, display_text_range=[0, 280], entities={'hashtags': [], 'symbols': [], 'user_mentions': [], 'urls': [{'url': 'https://t.co/zBcaO8uQyY', 'expanded_url': 'https://www.youtube.com/watch?v=pRzelZlKl7E', 'display_url': 'youtube.com/watch?v=pRzelZ…', 'indices': [257, 280]}], 'media': [{'id': 1348049856103911424, 'id_str': '1348049856103911424', 'indices': [281, 304], 'media_url': 'http://pbs.twimg.com/media/ErU8M6yXEAAyemJ.jpg', 'media_url_https': 'https://pbs.twimg.com/media/ErU8M6yXEAAyemJ.jpg', 'url': 'https://t.co/Szw8B9HzBx', 'display_url': 'pic.twitter.com/Szw8B9HzBx', 'expanded_url': 'https://twitter.com/lexfridman/status/1348049911141560321/photo/1', 'type': 'photo', 'sizes': {'large': {'w': 1280, 'h': 720, 'resize': 'fit'}, 'thumb': {'w': 150, 'h': 150, 'resize': 'crop'}, 'medium': {'w': 1200, 'h': 675, 'resize': 'fit'}, 'small': {'w': 680, 'h': 383, 'resize': 'fit'}}}]}, extended_entities={'media': [{'id': 1348049856103911424, 'id_str': '1348049856103911424', 'indices': [281, 304], 'media_url': 'http://pbs.twimg.com/media/ErU8M6yXEAAyemJ.jpg', 'media_url_https': 'https://pbs.twimg.com/media/ErU8M6yXEAAyemJ.jpg', 'url': 'https://t.co/Szw8B9HzBx', 'display_url': 'pic.twitter.com/Szw8B9HzBx', 'expanded_url': 'https://twitter.com/lexfridman/status/1348049911141560321/photo/1', 'type': 'photo', 'sizes': {'large': {'w': 1280, 'h': 720, 'resize': 'fit'}, 'thumb': {'w': 150, 'h': 150, 'resize': 'crop'}, 'medium': {'w': 1200, 'h': 675, 'resize': 'fit'}, 'small': {'w': 680, 'h': 383, 'resize': 'fit'}}}]}, source='Twitter Web App', source_url='https://mobile.twitter.com', in_reply_to_status_id=None, in_reply_to_status_id_str=None, in_reply_to_user_id=None, in_reply_to_user_id_str=None, in_reply_to_screen_name=None, author=User(_api=<tweepy.api.API object at 0x00000231F236BB80>, _json={'id': 427089628, 'id_str': '427089628', 'name': 'Lex Fridman', 'screen_name': 'lexfridman', 'location': 'Boston, MA', 'description': 'AI researcher. Podcast host.', 'url': 'https://t.co/cGtUxSUQZd', 'entities': {'url': {'urls': [{'url': 'https://t.co/cGtUxSUQZd', 'expanded_url': 'https://lexfridman.com/podcast', 'display_url': 'lexfridman.com/podcast', 'indices': [0, 23]}]}, 'description': {'urls': []}}, 'protected': False, 'followers_count': 434721, 'friends_count': 1, 'listed_count': 2418, 'created_at': 'Sat Dec 03 03:06:19 +0000 2011', 'favourites_count': 4538, 'utc_offset': None, 'time_zone': None, 'geo_enabled': False, 'verified': False, 'statuses_count': 1234, 'lang': None, 'contributors_enabled': False, 'is_translator': False, 'is_translation_enabled': False, 'profile_background_color': '000000', 'profile_background_image_url': 'http://abs.twimg.com/images/themes/theme1/bg.png', 'profile_background_image_url_https': 'https://abs.twimg.com/images/themes/theme1/bg.png', 'profile_background_tile': False, 'profile_image_url': 'http://pbs.twimg.com/profile_images/956331551435960322/OaqR8pAB_normal.jpg', 'profile_image_url_https': 'https://pbs.twimg.com/profile_images/956331551435960322/OaqR8pAB_normal.jpg', 'profile_banner_url': 'https://pbs.twimg.com/profile_banners/427089628/1586371087', 'profile_link_color': '444444', 'profile_sidebar_border_color': '000000', 'profile_sidebar_fill_color': '000000', 'profile_text_color': '000000', 'profile_use_background_image': False, 'has_extended_profile': False, 'default_profile': False, 'default_profile_image': False, 'following': False, 'follow_request_sent': False, 'notifications': False, 'translator_type': 'none'}, id=427089628, id_str='427089628', name='Lex Fridman', screen_name='lexfridman', location='Boston, MA', description='AI researcher. Podcast host.', url='https://t.co/cGtUxSUQZd', entities={'url': {'urls': [{'url': 'https://t.co/cGtUxSUQZd', 'expanded_url': 'https://lexfridman.com/podcast', 'display_url': 'lexfridman.com/podcast', 'indices': [0, 23]}]}, 'description': {'urls': []}}, protected=False, followers_count=434721, friends_count=1, listed_count=2418, created_at=datetime.datetime(2011, 12, 3, 3, 6, 19), favourites_count=4538, utc_offset=None, time_zone=None, geo_enabled=False, verified=False, statuses_count=1234, lang=None, contributors_enabled=False, is_translator=False, is_translation_enabled=False, profile_background_color='000000', profile_background_image_url='http://abs.twimg.com/images/themes/theme1/bg.png', profile_background_image_url_https='https://abs.twimg.com/images/themes/theme1/bg.png', profile_background_tile=False, profile_image_url='http://pbs.twimg.com/profile_images/956331551435960322/OaqR8pAB_normal.jpg', profile_image_url_https='https://pbs.twimg.com/profile_images/956331551435960322/OaqR8pAB_normal.jpg', profile_banner_url='https://pbs.twimg.com/profile_banners/427089628/1586371087', profile_link_color='444444', profile_sidebar_border_color='000000', profile_sidebar_fill_color='000000', profile_text_color='000000', profile_use_background_image=False, has_extended_profile=False, default_profile=False, default_profile_image=False, following=False, follow_request_sent=False, notifications=False, translator_type='none'), user=User(_api=<tweepy.api.API object at 0x00000231F236BB80>, _json={'id': 427089628, 'id_str': '427089628', 'name': 'Lex Fridman', 'screen_name': 'lexfridman', 'location': 'Boston, MA', 'description': 'AI researcher. Podcast host.', 'url': 'https://t.co/cGtUxSUQZd', 'entities': {'url': {'urls': [{'url': 'https://t.co/cGtUxSUQZd', 'expanded_url': 'https://lexfridman.com/podcast', 'display_url': 'lexfridman.com/podcast', 'indices': [0, 23]}]}, 'description': {'urls': []}}, 'protected': False, 'followers_count': 434721, 'friends_count': 1, 'listed_count': 2418, 'created_at': 'Sat Dec 03 03:06:19 +0000 2011', 'favourites_count': 4538, 'utc_offset': None, 'time_zone': None, 'geo_enabled': False, 'verified': False, 'statuses_count': 1234, 'lang': None, 'contributors_enabled': False, 'is_translator': False, 'is_translation_enabled': False, 'profile_background_color': '000000', 'profile_background_image_url': 'http://abs.twimg.com/images/themes/theme1/bg.png', 'profile_background_image_url_https': 'https://abs.twimg.com/images/themes/theme1/bg.png', 'profile_background_tile': False, 'profile_image_url': 'http://pbs.twimg.com/profile_images/956331551435960322/OaqR8pAB_normal.jpg', 'profile_image_url_https': 'https://pbs.twimg.com/profile_images/956331551435960322/OaqR8pAB_normal.jpg', 'profile_banner_url': 'https://pbs.twimg.com/profile_banners/427089628/1586371087', 'profile_link_color': '444444', 'profile_sidebar_border_color': '000000', 'profile_sidebar_fill_color': '000000', 'profile_text_color': '000000', 'profile_use_background_image': False, 'has_extended_profile': False, 'default_profile': False, 'default_profile_image': False, 'following': False, 'follow_request_sent': False, 'notifications': False, 'translator_type': 'none'}, id=427089628, id_str='427089628', name='Lex Fridman', screen_name='lexfridman', location='Boston, MA', description='AI researcher. Podcast host.', url='https://t.co/cGtUxSUQZd', entities={'url': {'urls': [{'url': 'https://t.co/cGtUxSUQZd', 'expanded_url': 'https://lexfridman.com/podcast', 'display_url': 'lexfridman.com/podcast', 'indices': [0, 23]}]}, 'description': {'urls': []}}, protected=False, followers_count=434721, friends_count=1, listed_count=2418, created_at=datetime.datetime(2011, 12, 3, 3, 6, 19), favourites_count=4538, utc_offset=None, time_zone=None, geo_enabled=False, verified=False, statuses_count=1234, lang=None, contributors_enabled=False, is_translator=False, is_translation_enabled=False, profile_background_color='000000', profile_background_image_url='http://abs.twimg.com/images/themes/theme1/bg.png', profile_background_image_url_https='https://abs.twimg.com/images/themes/theme1/bg.png', profile_background_tile=False, profile_image_url='http://pbs.twimg.com/profile_images/956331551435960322/OaqR8pAB_normal.jpg', profile_image_url_https='https://pbs.twimg.com/profile_images/956331551435960322/OaqR8pAB_normal.jpg', profile_banner_url='https://pbs.twimg.com/profile_banners/427089628/1586371087', profile_link_color='444444', profile_sidebar_border_color='000000', profile_sidebar_fill_color='000000', profile_text_color='000000', profile_use_background_image=False, has_extended_profile=False, default_profile=False, default_profile_image=False, following=False, follow_request_sent=False, notifications=False, translator_type='none'), geo=None, coordinates=None, place=None, contributors=None, is_quote_status=False, retweet_count=56, favorite_count=922, favorited=False, retweeted=False, possibly_sensitive=False, lang='en')\n"
     ]
    }
   ],
   "source": [
    "for k, tweet in enumerate(tweets):\n",
    "    print(tweet)\n",
    "    if k == 1:\n",
    "        break"
   ]
  },
  {
   "cell_type": "code",
   "execution_count": null,
   "metadata": {},
   "outputs": [],
   "source": []
  },
  {
   "cell_type": "code",
   "execution_count": null,
   "metadata": {},
   "outputs": [],
   "source": []
  }
 ],
 "metadata": {
  "kernelspec": {
   "display_name": "Python 3",
   "language": "python",
   "name": "python3"
  },
  "language_info": {
   "codemirror_mode": {
    "name": "ipython",
    "version": 3
   },
   "file_extension": ".py",
   "mimetype": "text/x-python",
   "name": "python",
   "nbconvert_exporter": "python",
   "pygments_lexer": "ipython3",
   "version": "3.8.5"
  }
 },
 "nbformat": 4,
 "nbformat_minor": 4
}
